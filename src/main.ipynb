{
 "cells": [
  {
   "cell_type": "markdown",
   "metadata": {},
   "source": [
    "### Preprocessing"
   ]
  },
  {
   "cell_type": "code",
   "execution_count": 1,
   "metadata": {},
   "outputs": [],
   "source": [
    "import pandas as pd\n",
    "import numpy as np\n",
    "import matplotlib.pyplot as plt\n",
    "from pandas_profiling import ProfileReport"
   ]
  },
  {
   "cell_type": "code",
   "execution_count": 2,
   "metadata": {
    "pycharm": {
     "name": "#%%\n"
    },
    "scrolled": true
   },
   "outputs": [
    {
     "data": {
      "text/html": [
       "<div>\n",
       "<style scoped>\n",
       "    .dataframe tbody tr th:only-of-type {\n",
       "        vertical-align: middle;\n",
       "    }\n",
       "\n",
       "    .dataframe tbody tr th {\n",
       "        vertical-align: top;\n",
       "    }\n",
       "\n",
       "    .dataframe thead th {\n",
       "        text-align: right;\n",
       "    }\n",
       "</style>\n",
       "<table border=\"1\" class=\"dataframe\">\n",
       "  <thead>\n",
       "    <tr style=\"text-align: right;\">\n",
       "      <th></th>\n",
       "      <th>BOROUGH</th>\n",
       "      <th>NEIGHBORHOOD</th>\n",
       "      <th>BUILDING CLASS CATEGORY</th>\n",
       "      <th>TAX CLASS AT PRESENT</th>\n",
       "      <th>BLOCK</th>\n",
       "      <th>LOT</th>\n",
       "      <th>EASE-MENT</th>\n",
       "      <th>BUILDING CLASS AT PRESENT</th>\n",
       "      <th>ADDRESS</th>\n",
       "      <th>APARTMENT NUMBER</th>\n",
       "      <th>...</th>\n",
       "      <th>RESIDENTIAL UNITS</th>\n",
       "      <th>COMMERCIAL UNITS</th>\n",
       "      <th>TOTAL UNITS</th>\n",
       "      <th>LAND SQUARE FEET</th>\n",
       "      <th>GROSS SQUARE FEET</th>\n",
       "      <th>YEAR BUILT</th>\n",
       "      <th>TAX CLASS AT TIME OF SALE</th>\n",
       "      <th>BUILDING CLASS AT TIME OF SALE</th>\n",
       "      <th>SALE PRICE</th>\n",
       "      <th>SALE DATE</th>\n",
       "    </tr>\n",
       "  </thead>\n",
       "  <tbody>\n",
       "    <tr>\n",
       "      <th>4</th>\n",
       "      <td>1</td>\n",
       "      <td>ALPHABET CITY</td>\n",
       "      <td>07 RENTALS - WALKUP APARTMENTS</td>\n",
       "      <td>2A</td>\n",
       "      <td>392</td>\n",
       "      <td>6</td>\n",
       "      <td></td>\n",
       "      <td>C2</td>\n",
       "      <td>153 AVENUE B</td>\n",
       "      <td></td>\n",
       "      <td>...</td>\n",
       "      <td>5</td>\n",
       "      <td>0</td>\n",
       "      <td>5</td>\n",
       "      <td>1633</td>\n",
       "      <td>6440</td>\n",
       "      <td>1900</td>\n",
       "      <td>2</td>\n",
       "      <td>C2</td>\n",
       "      <td>6625000</td>\n",
       "      <td>2017-07-19 00:00:00</td>\n",
       "    </tr>\n",
       "    <tr>\n",
       "      <th>5</th>\n",
       "      <td>1</td>\n",
       "      <td>ALPHABET CITY</td>\n",
       "      <td>07 RENTALS - WALKUP APARTMENTS</td>\n",
       "      <td>2</td>\n",
       "      <td>399</td>\n",
       "      <td>26</td>\n",
       "      <td></td>\n",
       "      <td>C7</td>\n",
       "      <td>234 EAST 4TH   STREET</td>\n",
       "      <td></td>\n",
       "      <td>...</td>\n",
       "      <td>28</td>\n",
       "      <td>3</td>\n",
       "      <td>31</td>\n",
       "      <td>4616</td>\n",
       "      <td>18690</td>\n",
       "      <td>1900</td>\n",
       "      <td>2</td>\n",
       "      <td>C7</td>\n",
       "      <td>-</td>\n",
       "      <td>2016-12-14 00:00:00</td>\n",
       "    </tr>\n",
       "    <tr>\n",
       "      <th>6</th>\n",
       "      <td>1</td>\n",
       "      <td>ALPHABET CITY</td>\n",
       "      <td>07 RENTALS - WALKUP APARTMENTS</td>\n",
       "      <td>2</td>\n",
       "      <td>399</td>\n",
       "      <td>39</td>\n",
       "      <td></td>\n",
       "      <td>C7</td>\n",
       "      <td>197 EAST 3RD   STREET</td>\n",
       "      <td></td>\n",
       "      <td>...</td>\n",
       "      <td>16</td>\n",
       "      <td>1</td>\n",
       "      <td>17</td>\n",
       "      <td>2212</td>\n",
       "      <td>7803</td>\n",
       "      <td>1900</td>\n",
       "      <td>2</td>\n",
       "      <td>C7</td>\n",
       "      <td>-</td>\n",
       "      <td>2016-12-09 00:00:00</td>\n",
       "    </tr>\n",
       "    <tr>\n",
       "      <th>7</th>\n",
       "      <td>1</td>\n",
       "      <td>ALPHABET CITY</td>\n",
       "      <td>07 RENTALS - WALKUP APARTMENTS</td>\n",
       "      <td>2B</td>\n",
       "      <td>402</td>\n",
       "      <td>21</td>\n",
       "      <td></td>\n",
       "      <td>C4</td>\n",
       "      <td>154 EAST 7TH STREET</td>\n",
       "      <td></td>\n",
       "      <td>...</td>\n",
       "      <td>10</td>\n",
       "      <td>0</td>\n",
       "      <td>10</td>\n",
       "      <td>2272</td>\n",
       "      <td>6794</td>\n",
       "      <td>1913</td>\n",
       "      <td>2</td>\n",
       "      <td>C4</td>\n",
       "      <td>3936272</td>\n",
       "      <td>2016-09-23 00:00:00</td>\n",
       "    </tr>\n",
       "    <tr>\n",
       "      <th>8</th>\n",
       "      <td>1</td>\n",
       "      <td>ALPHABET CITY</td>\n",
       "      <td>07 RENTALS - WALKUP APARTMENTS</td>\n",
       "      <td>2A</td>\n",
       "      <td>404</td>\n",
       "      <td>55</td>\n",
       "      <td></td>\n",
       "      <td>C2</td>\n",
       "      <td>301 EAST 10TH   STREET</td>\n",
       "      <td></td>\n",
       "      <td>...</td>\n",
       "      <td>6</td>\n",
       "      <td>0</td>\n",
       "      <td>6</td>\n",
       "      <td>2369</td>\n",
       "      <td>4615</td>\n",
       "      <td>1900</td>\n",
       "      <td>2</td>\n",
       "      <td>C2</td>\n",
       "      <td>8000000</td>\n",
       "      <td>2016-11-17 00:00:00</td>\n",
       "    </tr>\n",
       "  </tbody>\n",
       "</table>\n",
       "<p>5 rows × 21 columns</p>\n",
       "</div>"
      ],
      "text/plain": [
       "   BOROUGH   NEIGHBORHOOD                      BUILDING CLASS CATEGORY  \\\n",
       "4        1  ALPHABET CITY  07 RENTALS - WALKUP APARTMENTS                \n",
       "5        1  ALPHABET CITY  07 RENTALS - WALKUP APARTMENTS                \n",
       "6        1  ALPHABET CITY  07 RENTALS - WALKUP APARTMENTS                \n",
       "7        1  ALPHABET CITY  07 RENTALS - WALKUP APARTMENTS                \n",
       "8        1  ALPHABET CITY  07 RENTALS - WALKUP APARTMENTS                \n",
       "\n",
       "  TAX CLASS AT PRESENT  BLOCK  LOT EASE-MENT BUILDING CLASS AT PRESENT  \\\n",
       "4                   2A    392    6                                  C2   \n",
       "5                    2    399   26                                  C7   \n",
       "6                    2    399   39                                  C7   \n",
       "7                   2B    402   21                                  C4   \n",
       "8                   2A    404   55                                  C2   \n",
       "\n",
       "                  ADDRESS APARTMENT NUMBER  ...  RESIDENTIAL UNITS  \\\n",
       "4            153 AVENUE B                   ...                  5   \n",
       "5   234 EAST 4TH   STREET                   ...                 28   \n",
       "6   197 EAST 3RD   STREET                   ...                 16   \n",
       "7     154 EAST 7TH STREET                   ...                 10   \n",
       "8  301 EAST 10TH   STREET                   ...                  6   \n",
       "\n",
       "   COMMERCIAL UNITS  TOTAL UNITS  LAND SQUARE FEET GROSS SQUARE FEET  \\\n",
       "4                 0            5              1633              6440   \n",
       "5                 3           31              4616             18690   \n",
       "6                 1           17              2212              7803   \n",
       "7                 0           10              2272              6794   \n",
       "8                 0            6              2369              4615   \n",
       "\n",
       "  YEAR BUILT  TAX CLASS AT TIME OF SALE  BUILDING CLASS AT TIME OF SALE  \\\n",
       "4       1900                          2                              C2   \n",
       "5       1900                          2                              C7   \n",
       "6       1900                          2                              C7   \n",
       "7       1913                          2                              C4   \n",
       "8       1900                          2                              C2   \n",
       "\n",
       "  SALE PRICE            SALE DATE  \n",
       "4    6625000  2017-07-19 00:00:00  \n",
       "5        -    2016-12-14 00:00:00  \n",
       "6        -    2016-12-09 00:00:00  \n",
       "7    3936272  2016-09-23 00:00:00  \n",
       "8    8000000  2016-11-17 00:00:00  \n",
       "\n",
       "[5 rows x 21 columns]"
      ]
     },
     "execution_count": 2,
     "metadata": {},
     "output_type": "execute_result"
    }
   ],
   "source": [
    "df = pd.read_csv('include/nyc-rolling-sales.csv', index_col=0, delimiter=',')\n",
    "#df.profile_report()\n",
    "df.head()"
   ]
  },
  {
   "cell_type": "code",
   "execution_count": 3,
   "metadata": {},
   "outputs": [],
   "source": [
    "# Bytter ut celler med white space med NaN\n",
    "df = df.replace(r'^\\s*$', np.nan, regex=True)"
   ]
  },
  {
   "cell_type": "code",
   "execution_count": 4,
   "metadata": {},
   "outputs": [
    {
     "name": "stdout",
     "output_type": "stream",
     "text": [
      "Sjekker om noen kolonner er tomme:\n",
      " BOROUGH                               0\n",
      "NEIGHBORHOOD                          0\n",
      "BUILDING CLASS CATEGORY               0\n",
      "TAX CLASS AT PRESENT                738\n",
      "BLOCK                                 0\n",
      "LOT                                   0\n",
      "EASE-MENT                         84548\n",
      "BUILDING CLASS AT PRESENT           738\n",
      "ADDRESS                               0\n",
      "APARTMENT NUMBER                  65496\n",
      "ZIP CODE                              0\n",
      "RESIDENTIAL UNITS                     0\n",
      "COMMERCIAL UNITS                      0\n",
      "TOTAL UNITS                           0\n",
      "LAND SQUARE FEET                      0\n",
      "GROSS SQUARE FEET                     0\n",
      "YEAR BUILT                            0\n",
      "TAX CLASS AT TIME OF SALE             0\n",
      "BUILDING CLASS AT TIME OF SALE        0\n",
      "SALE PRICE                            0\n",
      "SALE DATE                             0\n",
      "dtype: int64\n"
     ]
    }
   ],
   "source": [
    "print(\"Sjekker om noen kolonner er tomme:\" + \"\\n\", df.isna().sum())"
   ]
  },
  {
   "cell_type": "code",
   "execution_count": 5,
   "metadata": {},
   "outputs": [],
   "source": [
    "#Fjerner rader hvor sale price er tom\n",
    "df = df[df[\"SALE PRICE\"].str.contains(\"-\")==False]"
   ]
  },
  {
   "cell_type": "code",
   "execution_count": 6,
   "metadata": {},
   "outputs": [
    {
     "data": {
      "text/html": [
       "<div>\n",
       "<style scoped>\n",
       "    .dataframe tbody tr th:only-of-type {\n",
       "        vertical-align: middle;\n",
       "    }\n",
       "\n",
       "    .dataframe tbody tr th {\n",
       "        vertical-align: top;\n",
       "    }\n",
       "\n",
       "    .dataframe thead th {\n",
       "        text-align: right;\n",
       "    }\n",
       "</style>\n",
       "<table border=\"1\" class=\"dataframe\">\n",
       "  <thead>\n",
       "    <tr style=\"text-align: right;\">\n",
       "      <th></th>\n",
       "      <th>BOROUGH</th>\n",
       "      <th>NEIGHBORHOOD</th>\n",
       "      <th>BUILDING CLASS CATEGORY</th>\n",
       "      <th>TAX CLASS AT PRESENT</th>\n",
       "      <th>BLOCK</th>\n",
       "      <th>LOT</th>\n",
       "      <th>EASE-MENT</th>\n",
       "      <th>BUILDING CLASS AT PRESENT</th>\n",
       "      <th>ADDRESS</th>\n",
       "      <th>APARTMENT NUMBER</th>\n",
       "      <th>...</th>\n",
       "      <th>RESIDENTIAL UNITS</th>\n",
       "      <th>COMMERCIAL UNITS</th>\n",
       "      <th>TOTAL UNITS</th>\n",
       "      <th>LAND SQUARE FEET</th>\n",
       "      <th>GROSS SQUARE FEET</th>\n",
       "      <th>YEAR BUILT</th>\n",
       "      <th>TAX CLASS AT TIME OF SALE</th>\n",
       "      <th>BUILDING CLASS AT TIME OF SALE</th>\n",
       "      <th>SALE PRICE</th>\n",
       "      <th>SALE DATE</th>\n",
       "    </tr>\n",
       "  </thead>\n",
       "  <tbody>\n",
       "    <tr>\n",
       "      <th>4</th>\n",
       "      <td>1</td>\n",
       "      <td>ALPHABET CITY</td>\n",
       "      <td>07 RENTALS - WALKUP APARTMENTS</td>\n",
       "      <td>2A</td>\n",
       "      <td>392</td>\n",
       "      <td>6</td>\n",
       "      <td>NaN</td>\n",
       "      <td>C2</td>\n",
       "      <td>153 AVENUE B</td>\n",
       "      <td>NaN</td>\n",
       "      <td>...</td>\n",
       "      <td>5</td>\n",
       "      <td>0</td>\n",
       "      <td>5</td>\n",
       "      <td>1633</td>\n",
       "      <td>6440</td>\n",
       "      <td>1900</td>\n",
       "      <td>2</td>\n",
       "      <td>C2</td>\n",
       "      <td>6625000</td>\n",
       "      <td>2017-07-19 00:00:00</td>\n",
       "    </tr>\n",
       "    <tr>\n",
       "      <th>7</th>\n",
       "      <td>1</td>\n",
       "      <td>ALPHABET CITY</td>\n",
       "      <td>07 RENTALS - WALKUP APARTMENTS</td>\n",
       "      <td>2B</td>\n",
       "      <td>402</td>\n",
       "      <td>21</td>\n",
       "      <td>NaN</td>\n",
       "      <td>C4</td>\n",
       "      <td>154 EAST 7TH STREET</td>\n",
       "      <td>NaN</td>\n",
       "      <td>...</td>\n",
       "      <td>10</td>\n",
       "      <td>0</td>\n",
       "      <td>10</td>\n",
       "      <td>2272</td>\n",
       "      <td>6794</td>\n",
       "      <td>1913</td>\n",
       "      <td>2</td>\n",
       "      <td>C4</td>\n",
       "      <td>3936272</td>\n",
       "      <td>2016-09-23 00:00:00</td>\n",
       "    </tr>\n",
       "    <tr>\n",
       "      <th>8</th>\n",
       "      <td>1</td>\n",
       "      <td>ALPHABET CITY</td>\n",
       "      <td>07 RENTALS - WALKUP APARTMENTS</td>\n",
       "      <td>2A</td>\n",
       "      <td>404</td>\n",
       "      <td>55</td>\n",
       "      <td>NaN</td>\n",
       "      <td>C2</td>\n",
       "      <td>301 EAST 10TH   STREET</td>\n",
       "      <td>NaN</td>\n",
       "      <td>...</td>\n",
       "      <td>6</td>\n",
       "      <td>0</td>\n",
       "      <td>6</td>\n",
       "      <td>2369</td>\n",
       "      <td>4615</td>\n",
       "      <td>1900</td>\n",
       "      <td>2</td>\n",
       "      <td>C2</td>\n",
       "      <td>8000000</td>\n",
       "      <td>2016-11-17 00:00:00</td>\n",
       "    </tr>\n",
       "    <tr>\n",
       "      <th>10</th>\n",
       "      <td>1</td>\n",
       "      <td>ALPHABET CITY</td>\n",
       "      <td>07 RENTALS - WALKUP APARTMENTS</td>\n",
       "      <td>2B</td>\n",
       "      <td>406</td>\n",
       "      <td>32</td>\n",
       "      <td>NaN</td>\n",
       "      <td>C4</td>\n",
       "      <td>210 AVENUE B</td>\n",
       "      <td>NaN</td>\n",
       "      <td>...</td>\n",
       "      <td>8</td>\n",
       "      <td>0</td>\n",
       "      <td>8</td>\n",
       "      <td>1750</td>\n",
       "      <td>4226</td>\n",
       "      <td>1920</td>\n",
       "      <td>2</td>\n",
       "      <td>C4</td>\n",
       "      <td>3192840</td>\n",
       "      <td>2016-09-23 00:00:00</td>\n",
       "    </tr>\n",
       "    <tr>\n",
       "      <th>13</th>\n",
       "      <td>1</td>\n",
       "      <td>ALPHABET CITY</td>\n",
       "      <td>08 RENTALS - ELEVATOR APARTMENTS</td>\n",
       "      <td>2</td>\n",
       "      <td>387</td>\n",
       "      <td>153</td>\n",
       "      <td>NaN</td>\n",
       "      <td>D9</td>\n",
       "      <td>629 EAST 5TH STREET</td>\n",
       "      <td>NaN</td>\n",
       "      <td>...</td>\n",
       "      <td>24</td>\n",
       "      <td>0</td>\n",
       "      <td>24</td>\n",
       "      <td>4489</td>\n",
       "      <td>18523</td>\n",
       "      <td>1920</td>\n",
       "      <td>2</td>\n",
       "      <td>D9</td>\n",
       "      <td>16232000</td>\n",
       "      <td>2016-11-07 00:00:00</td>\n",
       "    </tr>\n",
       "  </tbody>\n",
       "</table>\n",
       "<p>5 rows × 21 columns</p>\n",
       "</div>"
      ],
      "text/plain": [
       "    BOROUGH   NEIGHBORHOOD                      BUILDING CLASS CATEGORY  \\\n",
       "4         1  ALPHABET CITY  07 RENTALS - WALKUP APARTMENTS                \n",
       "7         1  ALPHABET CITY  07 RENTALS - WALKUP APARTMENTS                \n",
       "8         1  ALPHABET CITY  07 RENTALS - WALKUP APARTMENTS                \n",
       "10        1  ALPHABET CITY  07 RENTALS - WALKUP APARTMENTS                \n",
       "13        1  ALPHABET CITY  08 RENTALS - ELEVATOR APARTMENTS              \n",
       "\n",
       "   TAX CLASS AT PRESENT  BLOCK  LOT  EASE-MENT BUILDING CLASS AT PRESENT  \\\n",
       "4                    2A    392    6        NaN                        C2   \n",
       "7                    2B    402   21        NaN                        C4   \n",
       "8                    2A    404   55        NaN                        C2   \n",
       "10                   2B    406   32        NaN                        C4   \n",
       "13                    2    387  153        NaN                        D9   \n",
       "\n",
       "                   ADDRESS APARTMENT NUMBER  ...  RESIDENTIAL UNITS  \\\n",
       "4             153 AVENUE B              NaN  ...                  5   \n",
       "7      154 EAST 7TH STREET              NaN  ...                 10   \n",
       "8   301 EAST 10TH   STREET              NaN  ...                  6   \n",
       "10            210 AVENUE B              NaN  ...                  8   \n",
       "13     629 EAST 5TH STREET              NaN  ...                 24   \n",
       "\n",
       "    COMMERCIAL UNITS  TOTAL UNITS  LAND SQUARE FEET GROSS SQUARE FEET  \\\n",
       "4                  0            5              1633              6440   \n",
       "7                  0           10              2272              6794   \n",
       "8                  0            6              2369              4615   \n",
       "10                 0            8              1750              4226   \n",
       "13                 0           24              4489             18523   \n",
       "\n",
       "   YEAR BUILT  TAX CLASS AT TIME OF SALE  BUILDING CLASS AT TIME OF SALE  \\\n",
       "4        1900                          2                              C2   \n",
       "7        1913                          2                              C4   \n",
       "8        1900                          2                              C2   \n",
       "10       1920                          2                              C4   \n",
       "13       1920                          2                              D9   \n",
       "\n",
       "   SALE PRICE            SALE DATE  \n",
       "4     6625000  2017-07-19 00:00:00  \n",
       "7     3936272  2016-09-23 00:00:00  \n",
       "8     8000000  2016-11-17 00:00:00  \n",
       "10    3192840  2016-09-23 00:00:00  \n",
       "13   16232000  2016-11-07 00:00:00  \n",
       "\n",
       "[5 rows x 21 columns]"
      ]
     },
     "execution_count": 6,
     "metadata": {},
     "output_type": "execute_result"
    }
   ],
   "source": [
    "df.head()"
   ]
  },
  {
   "cell_type": "code",
   "execution_count": 7,
   "metadata": {},
   "outputs": [],
   "source": [
    "# Fjerner irrelevante kolonner fra datasett\n",
    "\n",
    "del df[\"EASE-MENT\"]  # Helt tom. Kan fjernes\n",
    "\n",
    "#Vurderes:\n",
    "\n",
    "del df[\"BUILDING CLASS AT PRESENT\"]\n",
    "del df[\"LOT\"]\n",
    "del df[\"SALE DATE\"]\n",
    "del df[\"TAX CLASS AT PRESENT\"]\n",
    "del df[\"ZIP CODE\"]\n",
    "del df[\"BLOCK\"]\n",
    "del df[\"COMMERCIAL UNITS\"]\n",
    "del df[\"TOTAL UNITS\"]"
   ]
  },
  {
   "cell_type": "code",
   "execution_count": null,
   "metadata": {},
   "outputs": [
    {
     "data": {
      "application/vnd.jupyter.widget-view+json": {
       "model_id": "2bd9cbbe060544eaa10f61a19e5673f0",
       "version_major": 2,
       "version_minor": 0
      },
      "text/plain": [
       "Summarize dataset:   0%|          | 0/26 [00:00<?, ?it/s]"
      ]
     },
     "metadata": {},
     "output_type": "display_data"
    }
   ],
   "source": [
    "df.profile_report()"
   ]
  },
  {
   "cell_type": "code",
   "execution_count": null,
   "metadata": {},
   "outputs": [],
   "source": [
    "# Gjør om data i Borough (fra siffer til navn)\n",
    "#df['BOROUGH']=df['BOROUGH'].replace({1:'Manhattan',2:'Bronx',3:'Brooklyn',4:'Queens',5:'Staten Island'})\n",
    "\n",
    "df.sample(5)"
   ]
  },
  {
   "cell_type": "markdown",
   "metadata": {},
   "source": [
    "# Model 1: KNN"
   ]
  },
  {
   "cell_type": "code",
   "execution_count": null,
   "metadata": {},
   "outputs": [],
   "source": [
    "# code"
   ]
  },
  {
   "cell_type": "markdown",
   "metadata": {},
   "source": [
    "# Model 2: Decession Trees"
   ]
  },
  {
   "cell_type": "code",
   "execution_count": null,
   "metadata": {},
   "outputs": [],
   "source": [
    "# code"
   ]
  },
  {
   "cell_type": "markdown",
   "metadata": {},
   "source": [
    "# Model 3 Linear Regression"
   ]
  },
  {
   "cell_type": "code",
   "execution_count": null,
   "metadata": {
    "pycharm": {
     "name": "#%%\n"
    }
   },
   "outputs": [],
   "source": [
    "from sklearn.model_selection import train_test_split\n",
    "from sklearn.linear_model import LinearRegression\n",
    "from sklearn.linear_model import Ridge\n",
    "import mglearn\n",
    "import matplotlib.pyplot as plt\n",
    "\n",
    "X, y = mglearn.datasets.load_extended_boston()\n",
    "\n",
    "X_train, X_test, y_train, y_test = train_test_split(X,y,random_state=0)\n",
    "lr = LinearRegression().fit(X_train, y_train)"
   ]
  },
  {
   "cell_type": "code",
   "execution_count": null,
   "metadata": {},
   "outputs": [],
   "source": [
    "#Ordinary\n",
    "print(\"Training set score: {:.2f}\".format(lr.score(X_train, y_train)))\n",
    "print(\"Test set score: {:.2f}\".format(lr.score(X_test, y_test)))"
   ]
  },
  {
   "cell_type": "code",
   "execution_count": null,
   "metadata": {},
   "outputs": [],
   "source": [
    "#Ridge\n",
    "ridge = Ridge().fit(X_train, y_train)\n",
    "\n",
    "print(\"Training set score: {:.2f}\".format(ridge.score(X_train, y_train)))\n",
    "print(\"Test set score: {:.2f}\".format(ridge.score(X_test, y_test)))"
   ]
  },
  {
   "cell_type": "code",
   "execution_count": null,
   "metadata": {},
   "outputs": [],
   "source": [
    "plt.plot(ridge.coef_, \"s\", label=\"Ridge alpha=1\")\n",
    "\n",
    "plt.plot(lr.coef_, \"o\", label=\"LinearRegression\")\n",
    "\n",
    "plt.xlabel(\"Coefficent index\")\n",
    "plt.ylabel(\"Coefficent magnitude\")\n",
    "plt.hlines(0,0, len(lr.coef_))\n",
    "plt.ylim(-25,25)\n",
    "plt.legend()"
   ]
  },
  {
   "cell_type": "code",
   "execution_count": null,
   "metadata": {
    "scrolled": false
   },
   "outputs": [],
   "source": [
    "mglearn.plots.plot_ridge_n_samples()"
   ]
  },
  {
   "cell_type": "code",
   "execution_count": null,
   "metadata": {},
   "outputs": [],
   "source": [
    "from sklearn.linear_model import Lasso\n",
    "\n",
    "lasso = Lasso().fit(X_train, y_train)\n",
    "\n",
    "print(\"Training set score: {:.2f}\".format(lasso.score(X_train, y_train)))\n",
    "print(\"Test set score: {:.2f}\".format(lasso.score(X_test, y_test)))\n",
    "print(\"Number of features used: {}\".format(np.sum(lasso.coef_!= 0)))"
   ]
  },
  {
   "cell_type": "code",
   "execution_count": null,
   "metadata": {},
   "outputs": [],
   "source": [
    "# Increse default setting of max_iter\n",
    "\n",
    "lasso001 = Lasso(alpha=0.01, max_iter=100000).fit(X_train, y_train)\n",
    "\n",
    "print(\"Training set score: {:.2f}\".format(lasso001.score(X_train, y_train)))\n",
    "print(\"Test set score: {:.2f}\".format(lasso001.score(X_test, y_test)))\n",
    "print(\"Number of features used: {}\".format(np.sum(lasso001.coef_!= 0)))"
   ]
  },
  {
   "cell_type": "code",
   "execution_count": null,
   "metadata": {},
   "outputs": [],
   "source": [
    "plt.plot(lasso.coef_, \"s\", label=\"Lasso alpha=1\")\n",
    "plt.plot(lasso001.coef_, \"o\", label=\"Lasso alpha = 0.1\")\n",
    "plt.plot(ridge.coef_, \"^\", label=\"Ridge_alpha = 0.1\")\n",
    "\n",
    "plt.legend(ncol=2, loc=(0, 1.05))\n",
    "plt.ylim(-25,25)\n",
    "plt.xlabel(\"Coefficent index\")\n",
    "plt.ylabel(\"Coefficent magnitude\")"
   ]
  },
  {
   "cell_type": "markdown",
   "metadata": {},
   "source": [
    "### Ridge > Lasso \n",
    "### However, if you have a large amount of features and expect only a few of them to be important, Lasso might be the better choice"
   ]
  },
  {
   "cell_type": "markdown",
   "metadata": {},
   "source": [
    "### Cross Validaton + Linear Regression"
   ]
  },
  {
   "cell_type": "code",
   "execution_count": null,
   "metadata": {},
   "outputs": [],
   "source": [
    "from sklearn.model_selection import cross_validate, cross_val_score\n",
    "from pandas_profiling import ProfileReport\n",
    "from sklearn.metrics import mean_squared_error, r2_score\n",
    "\n",
    "\n",
    "import seaborn as sns\n",
    "%matplotlib inline"
   ]
  },
  {
   "cell_type": "code",
   "execution_count": null,
   "metadata": {},
   "outputs": [],
   "source": [
    "df3 = df.copy()"
   ]
  },
  {
   "cell_type": "code",
   "execution_count": null,
   "metadata": {
    "scrolled": true
   },
   "outputs": [],
   "source": [
    "df3.head()"
   ]
  },
  {
   "cell_type": "code",
   "execution_count": null,
   "metadata": {
    "scrolled": true
   },
   "outputs": [],
   "source": [
    "#df3.profile_report()"
   ]
  },
  {
   "cell_type": "code",
   "execution_count": null,
   "metadata": {
    "scrolled": true
   },
   "outputs": [],
   "source": [
    "correlation_matrix = df3.corr().round(2)\n",
    "\n",
    "#Larger sns fig\n",
    "sns.set(rc={\"figure.figsize\":(11.7,8.27)})\n",
    "\n",
    "# annot = True to point the value inside square\n",
    "sns.heatmap(data=correlation_matrix, annot=True)"
   ]
  },
  {
   "cell_type": "code",
   "execution_count": null,
   "metadata": {},
   "outputs": [],
   "source": [
    "del df3[\"APARTMENT NUMBER\"]\n",
    "features = df3.drop(\"SALE PRICE\", axis=1).columns\n",
    "target = df3[\"SALE PRICE\"]\n",
    "plt.figure(figsize=(50,50))\n",
    "for index, feature_name in enumerate(features):\n",
    "    # 4 rows for plots, 13/3 == 4 plots per row\n",
    "    plt.subplot(4,len(features)/2, index+1)\n",
    "    plt.scatter(df3[feature_name], target)\n",
    "    plt.title(feature_name, fontsize=15)\n",
    "    plt.xlabel(feature_name, fontsize=8) #Removed for easier view of plots\n",
    "    plt.ylabel('SALE PRICE', fontsize=15)"
   ]
  },
  {
   "cell_type": "markdown",
   "metadata": {},
   "source": [
    "# Model 4 : Feedforward Neural Network 1"
   ]
  },
  {
   "cell_type": "code",
   "execution_count": null,
   "metadata": {
    "scrolled": true
   },
   "outputs": [],
   "source": [
    "df3[\"LOGLSTAT\"] = bos[\"LSTAT\"].apply(np.log)\n",
    "plt.figure(figsize=(20,10))\n",
    "\n",
    "# showing plot 1\n",
    "plt.subplot(1,2,1)\n",
    "plt.scatter(bos[\"LSTAT\"], bos['PRICE'], color='green')\n",
    "plt.title('Original % Status of Neighborhood vs Median Price of House', fontsize= 20)\n",
    "plt.xlabel('LSTAT',fontsize=20);\n",
    "plt.ylabel('MEDV',fontsize=20);\n",
    "plt.plot([0,40],[30,0])\n",
    "\n",
    "# showing plot 2\n",
    "plt.subplot(1,2,2)\n",
    "plt.scatter(bos[\"LOGLSTAT\"], bos['PRICE'], color='red')\n",
    "plt.title('Log Transformed % Status of Neighborhood vs Median Price of House', fontsize= 20)\n",
    "plt.xlabel('Transformed LSTAT',fontsize=20);\n",
    "plt.ylabel('Transformed MEDV',fontsize=20);\n",
    "plt.plot([0,4],[50,0])\n",
    "\n",
    "\n",
    "#Apply global parameters\n",
    "plt.rc('xtick', labelsize=20)\n",
    "plt.rc('ytick', labelsize=20)\n",
    "\n",
    "plt.show()"
   ]
  },
  {
   "cell_type": "code",
   "execution_count": null,
   "metadata": {},
   "outputs": [],
   "source": [
    "X = pd.DataFrame(np.c_[bos['LOGLSTAT'], bos['RM']], columns = ['LOGLSTAT','RM'])\n",
    "Y = bos['PRICE']"
   ]
  },
  {
   "cell_type": "code",
   "execution_count": null,
   "metadata": {},
   "outputs": [],
   "source": [
    "X_train, X_test, Y_train, Y_test = train_test_split(X, Y, test_size = 0.2)"
   ]
  },
  {
   "cell_type": "code",
   "execution_count": null,
   "metadata": {},
   "outputs": [],
   "source": [
    "# code"
   ]
  },
  {
   "cell_type": "markdown",
   "metadata": {},
   "source": [
    "# Model 5 : Feedforward Neural Network 2"
   ]
  },
  {
   "cell_type": "code",
   "execution_count": null,
   "metadata": {},
   "outputs": [],
   "source": [
    "# code"
   ]
  }
 ],
 "metadata": {
  "kernelspec": {
   "display_name": "PyCharm (Assignment)",
   "language": "python",
   "name": "pycharm-d60cf46b"
  },
  "language_info": {
   "codemirror_mode": {
    "name": "ipython",
    "version": 3
   },
   "file_extension": ".py",
   "mimetype": "text/x-python",
   "name": "python",
   "nbconvert_exporter": "python",
   "pygments_lexer": "ipython3",
   "version": "3.8.5"
  }
 },
 "nbformat": 4,
 "nbformat_minor": 1
}