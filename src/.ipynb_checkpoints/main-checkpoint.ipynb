{
 "cells": [
  {
   "cell_type": "markdown",
   "metadata": {},
   "source": [
    "# INFO284 Machine Learning Eksamen, vår 2021\n",
    "--- \n",
    "Kandiater: \n",
    "* 145\n",
    "* \n",
    "* \n",
    "* \n",
    "\n",
    "---\n",
    "\n",
    "### VIKTIG: \n",
    "#### The code shall in the end return the results of your experiments with your five chosen models and data sets. You need to explain:\n",
    "- Important and relevant properties of the data \n",
    "- how you preprocessed data like which features you selected, which data points you dropped, did you go for a subset of the data, did you do dimension reduction, how you reformatted data, etc.\n",
    "- how you decided on parameters for your machine learning models, did you use any regulation techniques\n",
    "- how the five methods were measured and compared to each other"
   ]
  },
  {
   "cell_type": "markdown",
   "metadata": {},
   "source": [
    "## Beskrivelse av datasett \n",
    "\n",
    "Link: https://www.kaggle.com/new-york-city/nyc-property-sales\n",
    "\n",
    "---    \n",
    "\n",
    "\n",
    "- <b>Sale Price </b> er vår target feature.\n",
    "- Vi tenker at følgende data points vil være logisk å bruke som <b> input features </b> for å predikere sale price:\n",
    "    -  <b>Land Square Feeet / Gross Square Feet.</b> Altså størrelse på tomt. \n",
    "    -  <b>Year built. </b>  Er nyere eiendommer nødvendigvis dyrere enn eldre?\n",
    "    -  <b>Zip Code / Borough. </b>  Har beliggenhet for en eiendom mye å si for prisen?\n",
    "\n",
    "Vi vil også bruke korrelasjonsmatriser for å se hvilke features som passer best med sale price.\n",
    "\n",
    "\n",
    "*** \n",
    "#### Vi har valgt følgende 5 modeller for prediksjoner av dette datasettet:\n",
    "1. K-nærmeste naboer\n",
    "\n",
    "\n",
    "2. Decision Trees\n",
    "\n",
    "\n",
    "3. Linear Regression\n",
    "\n",
    "\n",
    "4. Feedforward Neural Network 1\n",
    "\n",
    "\n",
    "5. Feedforward Neural Network 2 \n",
    "---"
   ]
  },
  {
   "cell_type": "markdown",
   "metadata": {},
   "source": [
    "## Kommandoer for å importere nødvendige pakker \n",
    "* <span style='background:black'> <span style='color:white'> pip install numpy </span>\n",
    "    \n",
    "    \n",
    "* <span style='background:black'> <span style='color:white'> pip install pandas </span>\n",
    "    \n",
    "    \n",
    "* <span style='background:black'> <span style='color:white'> pip install pandas-profiling </span>\n",
    "    \n",
    "    \n",
    "* <span style='background:black'> <span style='color:white'> pip install sklearn </span>\n",
    "    \n",
    "    \n",
    "* <span style='background:black'> <span style='color:white'> pip install seaborn </span>"
   ]
  },
  {
   "cell_type": "markdown",
   "metadata": {},
   "source": [
    "## Preprocessing"
   ]
  },
  {
   "cell_type": "code",
   "execution_count": 58,
   "metadata": {
    "pycharm": {
     "is_executing": true
    }
   },
   "outputs": [],
   "source": [
    "# Importerer nødvenidge pakker\n",
    "import pandas as pd\n",
    "import numpy as np\n",
    "from pandas_profiling import ProfileReport\n",
    "\n",
    "import seaborn as sns\n",
    "import matplotlib.pyplot as plt"
   ]
  },
  {
   "cell_type": "code",
   "execution_count": 59,
   "metadata": {
    "pycharm": {
     "is_executing": true,
     "name": "#%%\n"
    },
    "scrolled": true
   },
   "outputs": [
    {
     "data": {
      "text/html": [
       "<div>\n",
       "<style scoped>\n",
       "    .dataframe tbody tr th:only-of-type {\n",
       "        vertical-align: middle;\n",
       "    }\n",
       "\n",
       "    .dataframe tbody tr th {\n",
       "        vertical-align: top;\n",
       "    }\n",
       "\n",
       "    .dataframe thead th {\n",
       "        text-align: right;\n",
       "    }\n",
       "</style>\n",
       "<table border=\"1\" class=\"dataframe\">\n",
       "  <thead>\n",
       "    <tr style=\"text-align: right;\">\n",
       "      <th></th>\n",
       "      <th>BOROUGH</th>\n",
       "      <th>NEIGHBORHOOD</th>\n",
       "      <th>BUILDING CLASS CATEGORY</th>\n",
       "      <th>TAX CLASS AT PRESENT</th>\n",
       "      <th>BLOCK</th>\n",
       "      <th>LOT</th>\n",
       "      <th>EASE-MENT</th>\n",
       "      <th>BUILDING CLASS AT PRESENT</th>\n",
       "      <th>ADDRESS</th>\n",
       "      <th>APARTMENT NUMBER</th>\n",
       "      <th>...</th>\n",
       "      <th>RESIDENTIAL UNITS</th>\n",
       "      <th>COMMERCIAL UNITS</th>\n",
       "      <th>TOTAL UNITS</th>\n",
       "      <th>LAND SQUARE FEET</th>\n",
       "      <th>GROSS SQUARE FEET</th>\n",
       "      <th>YEAR BUILT</th>\n",
       "      <th>TAX CLASS AT TIME OF SALE</th>\n",
       "      <th>BUILDING CLASS AT TIME OF SALE</th>\n",
       "      <th>SALE PRICE</th>\n",
       "      <th>SALE DATE</th>\n",
       "    </tr>\n",
       "  </thead>\n",
       "  <tbody>\n",
       "    <tr>\n",
       "      <th>4</th>\n",
       "      <td>1</td>\n",
       "      <td>ALPHABET CITY</td>\n",
       "      <td>07 RENTALS - WALKUP APARTMENTS</td>\n",
       "      <td>2A</td>\n",
       "      <td>392</td>\n",
       "      <td>6</td>\n",
       "      <td></td>\n",
       "      <td>C2</td>\n",
       "      <td>153 AVENUE B</td>\n",
       "      <td></td>\n",
       "      <td>...</td>\n",
       "      <td>5</td>\n",
       "      <td>0</td>\n",
       "      <td>5</td>\n",
       "      <td>1633</td>\n",
       "      <td>6440</td>\n",
       "      <td>1900</td>\n",
       "      <td>2</td>\n",
       "      <td>C2</td>\n",
       "      <td>6625000</td>\n",
       "      <td>2017-07-19 00:00:00</td>\n",
       "    </tr>\n",
       "    <tr>\n",
       "      <th>5</th>\n",
       "      <td>1</td>\n",
       "      <td>ALPHABET CITY</td>\n",
       "      <td>07 RENTALS - WALKUP APARTMENTS</td>\n",
       "      <td>2</td>\n",
       "      <td>399</td>\n",
       "      <td>26</td>\n",
       "      <td></td>\n",
       "      <td>C7</td>\n",
       "      <td>234 EAST 4TH   STREET</td>\n",
       "      <td></td>\n",
       "      <td>...</td>\n",
       "      <td>28</td>\n",
       "      <td>3</td>\n",
       "      <td>31</td>\n",
       "      <td>4616</td>\n",
       "      <td>18690</td>\n",
       "      <td>1900</td>\n",
       "      <td>2</td>\n",
       "      <td>C7</td>\n",
       "      <td>-</td>\n",
       "      <td>2016-12-14 00:00:00</td>\n",
       "    </tr>\n",
       "    <tr>\n",
       "      <th>6</th>\n",
       "      <td>1</td>\n",
       "      <td>ALPHABET CITY</td>\n",
       "      <td>07 RENTALS - WALKUP APARTMENTS</td>\n",
       "      <td>2</td>\n",
       "      <td>399</td>\n",
       "      <td>39</td>\n",
       "      <td></td>\n",
       "      <td>C7</td>\n",
       "      <td>197 EAST 3RD   STREET</td>\n",
       "      <td></td>\n",
       "      <td>...</td>\n",
       "      <td>16</td>\n",
       "      <td>1</td>\n",
       "      <td>17</td>\n",
       "      <td>2212</td>\n",
       "      <td>7803</td>\n",
       "      <td>1900</td>\n",
       "      <td>2</td>\n",
       "      <td>C7</td>\n",
       "      <td>-</td>\n",
       "      <td>2016-12-09 00:00:00</td>\n",
       "    </tr>\n",
       "    <tr>\n",
       "      <th>7</th>\n",
       "      <td>1</td>\n",
       "      <td>ALPHABET CITY</td>\n",
       "      <td>07 RENTALS - WALKUP APARTMENTS</td>\n",
       "      <td>2B</td>\n",
       "      <td>402</td>\n",
       "      <td>21</td>\n",
       "      <td></td>\n",
       "      <td>C4</td>\n",
       "      <td>154 EAST 7TH STREET</td>\n",
       "      <td></td>\n",
       "      <td>...</td>\n",
       "      <td>10</td>\n",
       "      <td>0</td>\n",
       "      <td>10</td>\n",
       "      <td>2272</td>\n",
       "      <td>6794</td>\n",
       "      <td>1913</td>\n",
       "      <td>2</td>\n",
       "      <td>C4</td>\n",
       "      <td>3936272</td>\n",
       "      <td>2016-09-23 00:00:00</td>\n",
       "    </tr>\n",
       "    <tr>\n",
       "      <th>8</th>\n",
       "      <td>1</td>\n",
       "      <td>ALPHABET CITY</td>\n",
       "      <td>07 RENTALS - WALKUP APARTMENTS</td>\n",
       "      <td>2A</td>\n",
       "      <td>404</td>\n",
       "      <td>55</td>\n",
       "      <td></td>\n",
       "      <td>C2</td>\n",
       "      <td>301 EAST 10TH   STREET</td>\n",
       "      <td></td>\n",
       "      <td>...</td>\n",
       "      <td>6</td>\n",
       "      <td>0</td>\n",
       "      <td>6</td>\n",
       "      <td>2369</td>\n",
       "      <td>4615</td>\n",
       "      <td>1900</td>\n",
       "      <td>2</td>\n",
       "      <td>C2</td>\n",
       "      <td>8000000</td>\n",
       "      <td>2016-11-17 00:00:00</td>\n",
       "    </tr>\n",
       "  </tbody>\n",
       "</table>\n",
       "<p>5 rows × 21 columns</p>\n",
       "</div>"
      ],
      "text/plain": [
       "   BOROUGH   NEIGHBORHOOD                      BUILDING CLASS CATEGORY  \\\n",
       "4        1  ALPHABET CITY  07 RENTALS - WALKUP APARTMENTS                \n",
       "5        1  ALPHABET CITY  07 RENTALS - WALKUP APARTMENTS                \n",
       "6        1  ALPHABET CITY  07 RENTALS - WALKUP APARTMENTS                \n",
       "7        1  ALPHABET CITY  07 RENTALS - WALKUP APARTMENTS                \n",
       "8        1  ALPHABET CITY  07 RENTALS - WALKUP APARTMENTS                \n",
       "\n",
       "  TAX CLASS AT PRESENT  BLOCK  LOT EASE-MENT BUILDING CLASS AT PRESENT  \\\n",
       "4                   2A    392    6                                  C2   \n",
       "5                    2    399   26                                  C7   \n",
       "6                    2    399   39                                  C7   \n",
       "7                   2B    402   21                                  C4   \n",
       "8                   2A    404   55                                  C2   \n",
       "\n",
       "                  ADDRESS APARTMENT NUMBER  ...  RESIDENTIAL UNITS  \\\n",
       "4            153 AVENUE B                   ...                  5   \n",
       "5   234 EAST 4TH   STREET                   ...                 28   \n",
       "6   197 EAST 3RD   STREET                   ...                 16   \n",
       "7     154 EAST 7TH STREET                   ...                 10   \n",
       "8  301 EAST 10TH   STREET                   ...                  6   \n",
       "\n",
       "   COMMERCIAL UNITS  TOTAL UNITS  LAND SQUARE FEET GROSS SQUARE FEET  \\\n",
       "4                 0            5              1633              6440   \n",
       "5                 3           31              4616             18690   \n",
       "6                 1           17              2212              7803   \n",
       "7                 0           10              2272              6794   \n",
       "8                 0            6              2369              4615   \n",
       "\n",
       "  YEAR BUILT  TAX CLASS AT TIME OF SALE  BUILDING CLASS AT TIME OF SALE  \\\n",
       "4       1900                          2                              C2   \n",
       "5       1900                          2                              C7   \n",
       "6       1900                          2                              C7   \n",
       "7       1913                          2                              C4   \n",
       "8       1900                          2                              C2   \n",
       "\n",
       "  SALE PRICE            SALE DATE  \n",
       "4    6625000  2017-07-19 00:00:00  \n",
       "5        -    2016-12-14 00:00:00  \n",
       "6        -    2016-12-09 00:00:00  \n",
       "7    3936272  2016-09-23 00:00:00  \n",
       "8    8000000  2016-11-17 00:00:00  \n",
       "\n",
       "[5 rows x 21 columns]"
      ]
     },
     "execution_count": 59,
     "metadata": {},
     "output_type": "execute_result"
    }
   ],
   "source": [
    "# Leser CSV-filen og printer 5 tilfeldige rader fra datasett \n",
    "df = pd.read_csv('include/nyc-rolling-sales.csv', index_col=0, delimiter=',') \n",
    "df.head(5)"
   ]
  },
  {
   "cell_type": "markdown",
   "metadata": {},
   "source": [
    "#### Sjekker datatyper og om noen kolonner er tomme (NaN)"
   ]
  },
  {
   "cell_type": "code",
   "execution_count": 60,
   "metadata": {
    "pycharm": {
     "is_executing": true
    },
    "scrolled": false
   },
   "outputs": [
    {
     "name": "stdout",
     "output_type": "stream",
     "text": [
      "<class 'pandas.core.frame.DataFrame'>\n",
      "Int64Index: 84548 entries, 4 to 8413\n",
      "Data columns (total 21 columns):\n",
      " #   Column                          Non-Null Count  Dtype \n",
      "---  ------                          --------------  ----- \n",
      " 0   BOROUGH                         84548 non-null  int64 \n",
      " 1   NEIGHBORHOOD                    84548 non-null  object\n",
      " 2   BUILDING CLASS CATEGORY         84548 non-null  object\n",
      " 3   TAX CLASS AT PRESENT            84548 non-null  object\n",
      " 4   BLOCK                           84548 non-null  int64 \n",
      " 5   LOT                             84548 non-null  int64 \n",
      " 6   EASE-MENT                       84548 non-null  object\n",
      " 7   BUILDING CLASS AT PRESENT       84548 non-null  object\n",
      " 8   ADDRESS                         84548 non-null  object\n",
      " 9   APARTMENT NUMBER                84548 non-null  object\n",
      " 10  ZIP CODE                        84548 non-null  int64 \n",
      " 11  RESIDENTIAL UNITS               84548 non-null  int64 \n",
      " 12  COMMERCIAL UNITS                84548 non-null  int64 \n",
      " 13  TOTAL UNITS                     84548 non-null  int64 \n",
      " 14  LAND SQUARE FEET                84548 non-null  object\n",
      " 15  GROSS SQUARE FEET               84548 non-null  object\n",
      " 16  YEAR BUILT                      84548 non-null  int64 \n",
      " 17  TAX CLASS AT TIME OF SALE       84548 non-null  int64 \n",
      " 18  BUILDING CLASS AT TIME OF SALE  84548 non-null  object\n",
      " 19  SALE PRICE                      84548 non-null  object\n",
      " 20  SALE DATE                       84548 non-null  object\n",
      "dtypes: int64(9), object(12)\n",
      "memory usage: 14.2+ MB\n"
     ]
    }
   ],
   "source": [
    "df.info()"
   ]
  },
  {
   "cell_type": "markdown",
   "metadata": {},
   "source": [
    "---\n",
    "Ingen kolonner har NaN-verdier, men vi kan se fra df.head( ) at enkelte kolonner inneholder unyttig data som tomme celler og spesialtegn. Disse kan gjøres om til nullverdier, eller NaN for å rydde datasettet og gjøre det mer oversiktlig.\n",
    "\n",
    "Vi kan se nærmere på dette i <b> Pandas Profile_Report </b>"
   ]
  },
  {
   "cell_type": "code",
   "execution_count": 61,
   "metadata": {
    "pycharm": {
     "is_executing": true
    }
   },
   "outputs": [],
   "source": [
    "#df.profile_report() # Profile report"
   ]
  },
  {
   "cell_type": "markdown",
   "metadata": {},
   "source": [
    "#### Vi har kommet frem til at celler med disse verdiene kan gjøres om til nullverdier:\n",
    "* Whitespace, altså helt tomme celler \n",
    "* Kun bindestrek, som finnes bl.a. i sale price og square feet"
   ]
  },
  {
   "cell_type": "code",
   "execution_count": 62,
   "metadata": {
    "pycharm": {
     "is_executing": true
    }
   },
   "outputs": [],
   "source": [
    "df = df.replace(r'^\\s*$', np.nan, regex=True) # Tomme celler erstattes med NaN\n",
    "\n",
    "columns = [\"SALE PRICE\", \"LAND SQUARE FEET\", \"GROSS SQUARE FEET\"] #Celler med kun - erstattes med NaN\n",
    "for col in columns:\n",
    "    df[col] = df[col].replace(r'[-]', np.nan, regex=True) \n"
   ]
  },
  {
   "cell_type": "markdown",
   "metadata": {},
   "source": [
    "---\n",
    "Oppdatert sjekk på tomme kolonner"
   ]
  },
  {
   "cell_type": "code",
   "execution_count": 63,
   "metadata": {
    "pycharm": {
     "is_executing": true
    },
    "scrolled": false
   },
   "outputs": [
    {
     "name": "stdout",
     "output_type": "stream",
     "text": [
      "BOROUGH                               0\n",
      "NEIGHBORHOOD                          0\n",
      "BUILDING CLASS CATEGORY               0\n",
      "TAX CLASS AT PRESENT                738\n",
      "BLOCK                                 0\n",
      "LOT                                   0\n",
      "EASE-MENT                         84548\n",
      "BUILDING CLASS AT PRESENT           738\n",
      "ADDRESS                               0\n",
      "APARTMENT NUMBER                  65496\n",
      "ZIP CODE                              0\n",
      "RESIDENTIAL UNITS                     0\n",
      "COMMERCIAL UNITS                      0\n",
      "TOTAL UNITS                           0\n",
      "LAND SQUARE FEET                  26252\n",
      "GROSS SQUARE FEET                 27612\n",
      "YEAR BUILT                            0\n",
      "TAX CLASS AT TIME OF SALE             0\n",
      "BUILDING CLASS AT TIME OF SALE        0\n",
      "SALE PRICE                        14561\n",
      "SALE DATE                             0\n",
      "dtype: int64\n"
     ]
    }
   ],
   "source": [
    "print(df.isna().sum())"
   ]
  },
  {
   "cell_type": "code",
   "execution_count": 64,
   "metadata": {
    "scrolled": false
   },
   "outputs": [
    {
     "data": {
      "text/html": [
       "<div>\n",
       "<style scoped>\n",
       "    .dataframe tbody tr th:only-of-type {\n",
       "        vertical-align: middle;\n",
       "    }\n",
       "\n",
       "    .dataframe tbody tr th {\n",
       "        vertical-align: top;\n",
       "    }\n",
       "\n",
       "    .dataframe thead th {\n",
       "        text-align: right;\n",
       "    }\n",
       "</style>\n",
       "<table border=\"1\" class=\"dataframe\">\n",
       "  <thead>\n",
       "    <tr style=\"text-align: right;\">\n",
       "      <th></th>\n",
       "      <th>BOROUGH</th>\n",
       "      <th>NEIGHBORHOOD</th>\n",
       "      <th>BUILDING CLASS CATEGORY</th>\n",
       "      <th>TAX CLASS AT PRESENT</th>\n",
       "      <th>BLOCK</th>\n",
       "      <th>LOT</th>\n",
       "      <th>EASE-MENT</th>\n",
       "      <th>BUILDING CLASS AT PRESENT</th>\n",
       "      <th>ADDRESS</th>\n",
       "      <th>APARTMENT NUMBER</th>\n",
       "      <th>...</th>\n",
       "      <th>RESIDENTIAL UNITS</th>\n",
       "      <th>COMMERCIAL UNITS</th>\n",
       "      <th>TOTAL UNITS</th>\n",
       "      <th>LAND SQUARE FEET</th>\n",
       "      <th>GROSS SQUARE FEET</th>\n",
       "      <th>YEAR BUILT</th>\n",
       "      <th>TAX CLASS AT TIME OF SALE</th>\n",
       "      <th>BUILDING CLASS AT TIME OF SALE</th>\n",
       "      <th>SALE PRICE</th>\n",
       "      <th>SALE DATE</th>\n",
       "    </tr>\n",
       "  </thead>\n",
       "  <tbody>\n",
       "    <tr>\n",
       "      <th>841</th>\n",
       "      <td>2</td>\n",
       "      <td>BRONXDALE</td>\n",
       "      <td>01 ONE FAMILY DWELLINGS</td>\n",
       "      <td>1</td>\n",
       "      <td>4568</td>\n",
       "      <td>44</td>\n",
       "      <td>NaN</td>\n",
       "      <td>A5</td>\n",
       "      <td>3023 CRUGER AVENUE</td>\n",
       "      <td>NaN</td>\n",
       "      <td>...</td>\n",
       "      <td>1</td>\n",
       "      <td>0</td>\n",
       "      <td>1</td>\n",
       "      <td>2500</td>\n",
       "      <td>1078</td>\n",
       "      <td>1960</td>\n",
       "      <td>1</td>\n",
       "      <td>A5</td>\n",
       "      <td>10</td>\n",
       "      <td>2017-07-24 00:00:00</td>\n",
       "    </tr>\n",
       "    <tr>\n",
       "      <th>4998</th>\n",
       "      <td>2</td>\n",
       "      <td>RIVERDALE</td>\n",
       "      <td>13 CONDOS - ELEVATOR APARTMENTS</td>\n",
       "      <td>2</td>\n",
       "      <td>5923</td>\n",
       "      <td>1005</td>\n",
       "      <td>NaN</td>\n",
       "      <td>R4</td>\n",
       "      <td>4455 DOUGLAS AVENUE</td>\n",
       "      <td>1J</td>\n",
       "      <td>...</td>\n",
       "      <td>1</td>\n",
       "      <td>0</td>\n",
       "      <td>1</td>\n",
       "      <td>0</td>\n",
       "      <td>0</td>\n",
       "      <td>0</td>\n",
       "      <td>2</td>\n",
       "      <td>R4</td>\n",
       "      <td>570000</td>\n",
       "      <td>2017-08-03 00:00:00</td>\n",
       "    </tr>\n",
       "    <tr>\n",
       "      <th>2113</th>\n",
       "      <td>4</td>\n",
       "      <td>BAYSIDE</td>\n",
       "      <td>04 TAX CLASS 1 CONDOS</td>\n",
       "      <td>1A</td>\n",
       "      <td>5843</td>\n",
       "      <td>1613</td>\n",
       "      <td>NaN</td>\n",
       "      <td>R3</td>\n",
       "      <td>13-28 208TH   PLACE</td>\n",
       "      <td>169-2</td>\n",
       "      <td>...</td>\n",
       "      <td>1</td>\n",
       "      <td>0</td>\n",
       "      <td>1</td>\n",
       "      <td>NaN</td>\n",
       "      <td>NaN</td>\n",
       "      <td>1985</td>\n",
       "      <td>1</td>\n",
       "      <td>R3</td>\n",
       "      <td>600000</td>\n",
       "      <td>2017-04-24 00:00:00</td>\n",
       "    </tr>\n",
       "    <tr>\n",
       "      <th>6533</th>\n",
       "      <td>2</td>\n",
       "      <td>WILLIAMSBRIDGE</td>\n",
       "      <td>01 ONE FAMILY DWELLINGS</td>\n",
       "      <td>1</td>\n",
       "      <td>4653</td>\n",
       "      <td>89</td>\n",
       "      <td>NaN</td>\n",
       "      <td>A1</td>\n",
       "      <td>3825 CARPENTER AVENUE</td>\n",
       "      <td>NaN</td>\n",
       "      <td>...</td>\n",
       "      <td>1</td>\n",
       "      <td>0</td>\n",
       "      <td>1</td>\n",
       "      <td>2861</td>\n",
       "      <td>1344</td>\n",
       "      <td>1925</td>\n",
       "      <td>1</td>\n",
       "      <td>A1</td>\n",
       "      <td>349000</td>\n",
       "      <td>2017-01-31 00:00:00</td>\n",
       "    </tr>\n",
       "    <tr>\n",
       "      <th>19087</th>\n",
       "      <td>3</td>\n",
       "      <td>PARK SLOPE</td>\n",
       "      <td>02 TWO FAMILY DWELLINGS</td>\n",
       "      <td>1</td>\n",
       "      <td>965</td>\n",
       "      <td>51</td>\n",
       "      <td>NaN</td>\n",
       "      <td>B3</td>\n",
       "      <td>371 1 STREET</td>\n",
       "      <td>NaN</td>\n",
       "      <td>...</td>\n",
       "      <td>2</td>\n",
       "      <td>0</td>\n",
       "      <td>2</td>\n",
       "      <td>1950</td>\n",
       "      <td>4008</td>\n",
       "      <td>1901</td>\n",
       "      <td>1</td>\n",
       "      <td>B3</td>\n",
       "      <td>4875000</td>\n",
       "      <td>2017-05-19 00:00:00</td>\n",
       "    </tr>\n",
       "  </tbody>\n",
       "</table>\n",
       "<p>5 rows × 21 columns</p>\n",
       "</div>"
      ],
      "text/plain": [
       "       BOROUGH    NEIGHBORHOOD                      BUILDING CLASS CATEGORY  \\\n",
       "841          2       BRONXDALE  01 ONE FAMILY DWELLINGS                       \n",
       "4998         2       RIVERDALE  13 CONDOS - ELEVATOR APARTMENTS               \n",
       "2113         4         BAYSIDE  04 TAX CLASS 1 CONDOS                         \n",
       "6533         2  WILLIAMSBRIDGE  01 ONE FAMILY DWELLINGS                       \n",
       "19087        3      PARK SLOPE  02 TWO FAMILY DWELLINGS                       \n",
       "\n",
       "      TAX CLASS AT PRESENT  BLOCK   LOT  EASE-MENT BUILDING CLASS AT PRESENT  \\\n",
       "841                      1   4568    44        NaN                        A5   \n",
       "4998                     2   5923  1005        NaN                        R4   \n",
       "2113                    1A   5843  1613        NaN                        R3   \n",
       "6533                     1   4653    89        NaN                        A1   \n",
       "19087                    1    965    51        NaN                        B3   \n",
       "\n",
       "                     ADDRESS APARTMENT NUMBER  ...  RESIDENTIAL UNITS  \\\n",
       "841       3023 CRUGER AVENUE              NaN  ...                  1   \n",
       "4998     4455 DOUGLAS AVENUE               1J  ...                  1   \n",
       "2113     13-28 208TH   PLACE            169-2  ...                  1   \n",
       "6533   3825 CARPENTER AVENUE              NaN  ...                  1   \n",
       "19087           371 1 STREET              NaN  ...                  2   \n",
       "\n",
       "       COMMERCIAL UNITS  TOTAL UNITS  LAND SQUARE FEET GROSS SQUARE FEET  \\\n",
       "841                   0            1              2500              1078   \n",
       "4998                  0            1                 0                 0   \n",
       "2113                  0            1               NaN               NaN   \n",
       "6533                  0            1              2861              1344   \n",
       "19087                 0            2              1950              4008   \n",
       "\n",
       "      YEAR BUILT  TAX CLASS AT TIME OF SALE  BUILDING CLASS AT TIME OF SALE  \\\n",
       "841         1960                          1                              A5   \n",
       "4998           0                          2                              R4   \n",
       "2113        1985                          1                              R3   \n",
       "6533        1925                          1                              A1   \n",
       "19087       1901                          1                              B3   \n",
       "\n",
       "      SALE PRICE            SALE DATE  \n",
       "841           10  2017-07-24 00:00:00  \n",
       "4998      570000  2017-08-03 00:00:00  \n",
       "2113      600000  2017-04-24 00:00:00  \n",
       "6533      349000  2017-01-31 00:00:00  \n",
       "19087    4875000  2017-05-19 00:00:00  \n",
       "\n",
       "[5 rows x 21 columns]"
      ]
     },
     "execution_count": 64,
     "metadata": {},
     "output_type": "execute_result"
    }
   ],
   "source": [
    "# Ny oversikt over datasett med NaN-verdier\n",
    "df.sample(5)"
   ]
  },
  {
   "cell_type": "markdown",
   "metadata": {},
   "source": [
    "#### Visualisering av kolonner med NaN-verdier. "
   ]
  },
  {
   "cell_type": "code",
   "execution_count": 65,
   "metadata": {
    "scrolled": false
   },
   "outputs": [
    {
     "data": {
      "image/png": "[encoded data removed]",
      "text/plain": [
       "<Figure size 792x504 with 2 Axes>"
      ]
     },
     "metadata": {},
     "output_type": "display_data"
    }
   ],
   "source": [
    "plt.figure(figsize=(11, 7))\n",
    "sns.heatmap(df.isnull(), cmap='viridis')\n",
    "plt.show()"
   ]
  },
  {
   "cell_type": "markdown",
   "metadata": {},
   "source": [
    "#### Som vi ser inneholder en del data points store mengder NaN-verdier. <br> Vi har også andre data points som vi føler ikke er relevante for vår target feature\n",
    "Derfor velger vi å fjerne følgende data points fra vår DataFrame: \n",
    "\n",
    "--- \n",
    "- **Ease-ment**\n",
    "    - Består av kun nullverdier   \n",
    " \n",
    " \n",
    "- **Apartment number**\n",
    "    - Store mengder av verdiene er NaN og vi mener det heller ikke er relevant for target feature. \n",
    "    \n",
    "\n",
    "- **Lot**\n",
    "    - Sier om hvor mye land som blir solgt, men det gjør også land square feet og gross square feet. Ikke nødvendig å ta med\n",
    "\n",
    "\n",
    "- **Block**\n",
    "    - Det er bare nummeret på blokken og har lite å si for target feature\n",
    "--- "
   ]
  },
  {
   "cell_type": "code",
   "execution_count": 66,
   "metadata": {
    "pycharm": {
     "is_executing": true
    }
   },
   "outputs": [],
   "source": [
    "# Fjerner irrelevante data points fra datasett\n",
    "\n",
    "del df[\"EASE-MENT\"]  \n",
    "del df[\"APARTMENT NUMBER\"]\n",
    "del df[\"LOT\"]\n",
    "del df[\"BLOCK\"]\n",
    "\n",
    "# del df[\"NEIGHBORHOOD\"]\n",
    "# del df[\"BUILDING CLASS CATEGORY\"]\n",
    "# del df[\"TAX CLASS AT PRESENT\"]\n",
    "# del df[\"ADDRESS\"]\n",
    "# del df[\"BUILDING CLASS AT TIME OF SALE\"]\n",
    "# del df[\"SALE DATE\"]\n",
    "# del df[\"BUILDING CLASS AT PRESENT\"]"
   ]
  },
  {
   "cell_type": "code",
   "execution_count": 67,
   "metadata": {
    "scrolled": true
   },
   "outputs": [
    {
     "name": "stdout",
     "output_type": "stream",
     "text": [
      "<class 'pandas.core.frame.DataFrame'>\n",
      "Int64Index: 84548 entries, 4 to 8413\n",
      "Data columns (total 17 columns):\n",
      " #   Column                          Non-Null Count  Dtype \n",
      "---  ------                          --------------  ----- \n",
      " 0   BOROUGH                         84548 non-null  int64 \n",
      " 1   NEIGHBORHOOD                    84548 non-null  object\n",
      " 2   BUILDING CLASS CATEGORY         84548 non-null  object\n",
      " 3   TAX CLASS AT PRESENT            83810 non-null  object\n",
      " 4   BUILDING CLASS AT PRESENT       83810 non-null  object\n",
      " 5   ADDRESS                         84548 non-null  object\n",
      " 6   ZIP CODE                        84548 non-null  int64 \n",
      " 7   RESIDENTIAL UNITS               84548 non-null  int64 \n",
      " 8   COMMERCIAL UNITS                84548 non-null  int64 \n",
      " 9   TOTAL UNITS                     84548 non-null  int64 \n",
      " 10  LAND SQUARE FEET                58296 non-null  object\n",
      " 11  GROSS SQUARE FEET               56936 non-null  object\n",
      " 12  YEAR BUILT                      84548 non-null  int64 \n",
      " 13  TAX CLASS AT TIME OF SALE       84548 non-null  int64 \n",
      " 14  BUILDING CLASS AT TIME OF SALE  84548 non-null  object\n",
      " 15  SALE PRICE                      69987 non-null  object\n",
      " 16  SALE DATE                       84548 non-null  object\n",
      "dtypes: int64(7), object(10)\n",
      "memory usage: 11.6+ MB\n"
     ]
    }
   ],
   "source": [
    "df.info()"
   ]
  },
  {
   "cell_type": "markdown",
   "metadata": {},
   "source": [
    "#### Det neste steget er å endre alle relevante data points til numeriske verdier så datasettet er optimalisert for modellene våre.\n",
    "- Nullverdier kan gjøres om til **median** (løsning 1) eller **droppes** (løsning 2)\n",
    "- For salgsdato vil kun **årstall** være tilstrekkelig\n",
    "- Etc.\n",
    "---"
   ]
  },
  {
   "cell_type": "markdown",
   "metadata": {},
   "source": [
    "Her får vi hentet ut statistiker på kolonner som inneholder tallverdier. \n",
    "Dette er nyttig da vi kan bruke median for enkelte nullverdier, f.eks. Sale Price og Square Feet"
   ]
  },
  {
   "cell_type": "code",
   "execution_count": 68,
   "metadata": {
    "scrolled": true
   },
   "outputs": [
    {
     "data": {
      "text/html": [
       "<div>\n",
       "<style scoped>\n",
       "    .dataframe tbody tr th:only-of-type {\n",
       "        vertical-align: middle;\n",
       "    }\n",
       "\n",
       "    .dataframe tbody tr th {\n",
       "        vertical-align: top;\n",
       "    }\n",
       "\n",
       "    .dataframe thead th {\n",
       "        text-align: right;\n",
       "    }\n",
       "</style>\n",
       "<table border=\"1\" class=\"dataframe\">\n",
       "  <thead>\n",
       "    <tr style=\"text-align: right;\">\n",
       "      <th></th>\n",
       "      <th>BOROUGH</th>\n",
       "      <th>ZIP CODE</th>\n",
       "      <th>RESIDENTIAL UNITS</th>\n",
       "      <th>COMMERCIAL UNITS</th>\n",
       "      <th>TOTAL UNITS</th>\n",
       "      <th>YEAR BUILT</th>\n",
       "      <th>TAX CLASS AT TIME OF SALE</th>\n",
       "    </tr>\n",
       "  </thead>\n",
       "  <tbody>\n",
       "    <tr>\n",
       "      <th>count</th>\n",
       "      <td>84548.000000</td>\n",
       "      <td>84548.000000</td>\n",
       "      <td>84548.000000</td>\n",
       "      <td>84548.000000</td>\n",
       "      <td>84548.000000</td>\n",
       "      <td>84548.000000</td>\n",
       "      <td>84548.000000</td>\n",
       "    </tr>\n",
       "    <tr>\n",
       "      <th>mean</th>\n",
       "      <td>2.998758</td>\n",
       "      <td>10731.991614</td>\n",
       "      <td>2.025264</td>\n",
       "      <td>0.193559</td>\n",
       "      <td>2.249184</td>\n",
       "      <td>1789.322976</td>\n",
       "      <td>1.657485</td>\n",
       "    </tr>\n",
       "    <tr>\n",
       "      <th>std</th>\n",
       "      <td>1.289790</td>\n",
       "      <td>1290.879147</td>\n",
       "      <td>16.721037</td>\n",
       "      <td>8.713183</td>\n",
       "      <td>18.972584</td>\n",
       "      <td>537.344993</td>\n",
       "      <td>0.819341</td>\n",
       "    </tr>\n",
       "    <tr>\n",
       "      <th>min</th>\n",
       "      <td>1.000000</td>\n",
       "      <td>0.000000</td>\n",
       "      <td>0.000000</td>\n",
       "      <td>0.000000</td>\n",
       "      <td>0.000000</td>\n",
       "      <td>0.000000</td>\n",
       "      <td>1.000000</td>\n",
       "    </tr>\n",
       "    <tr>\n",
       "      <th>25%</th>\n",
       "      <td>2.000000</td>\n",
       "      <td>10305.000000</td>\n",
       "      <td>0.000000</td>\n",
       "      <td>0.000000</td>\n",
       "      <td>1.000000</td>\n",
       "      <td>1920.000000</td>\n",
       "      <td>1.000000</td>\n",
       "    </tr>\n",
       "    <tr>\n",
       "      <th>50%</th>\n",
       "      <td>3.000000</td>\n",
       "      <td>11209.000000</td>\n",
       "      <td>1.000000</td>\n",
       "      <td>0.000000</td>\n",
       "      <td>1.000000</td>\n",
       "      <td>1940.000000</td>\n",
       "      <td>2.000000</td>\n",
       "    </tr>\n",
       "    <tr>\n",
       "      <th>75%</th>\n",
       "      <td>4.000000</td>\n",
       "      <td>11357.000000</td>\n",
       "      <td>2.000000</td>\n",
       "      <td>0.000000</td>\n",
       "      <td>2.000000</td>\n",
       "      <td>1965.000000</td>\n",
       "      <td>2.000000</td>\n",
       "    </tr>\n",
       "    <tr>\n",
       "      <th>max</th>\n",
       "      <td>5.000000</td>\n",
       "      <td>11694.000000</td>\n",
       "      <td>1844.000000</td>\n",
       "      <td>2261.000000</td>\n",
       "      <td>2261.000000</td>\n",
       "      <td>2017.000000</td>\n",
       "      <td>4.000000</td>\n",
       "    </tr>\n",
       "  </tbody>\n",
       "</table>\n",
       "</div>"
      ],
      "text/plain": [
       "            BOROUGH      ZIP CODE  RESIDENTIAL UNITS  COMMERCIAL UNITS  \\\n",
       "count  84548.000000  84548.000000       84548.000000      84548.000000   \n",
       "mean       2.998758  10731.991614           2.025264          0.193559   \n",
       "std        1.289790   1290.879147          16.721037          8.713183   \n",
       "min        1.000000      0.000000           0.000000          0.000000   \n",
       "25%        2.000000  10305.000000           0.000000          0.000000   \n",
       "50%        3.000000  11209.000000           1.000000          0.000000   \n",
       "75%        4.000000  11357.000000           2.000000          0.000000   \n",
       "max        5.000000  11694.000000        1844.000000       2261.000000   \n",
       "\n",
       "        TOTAL UNITS    YEAR BUILT  TAX CLASS AT TIME OF SALE  \n",
       "count  84548.000000  84548.000000               84548.000000  \n",
       "mean       2.249184   1789.322976                   1.657485  \n",
       "std       18.972584    537.344993                   0.819341  \n",
       "min        0.000000      0.000000                   1.000000  \n",
       "25%        1.000000   1920.000000                   1.000000  \n",
       "50%        1.000000   1940.000000                   2.000000  \n",
       "75%        2.000000   1965.000000                   2.000000  \n",
       "max     2261.000000   2017.000000                   4.000000  "
      ]
     },
     "execution_count": 68,
     "metadata": {},
     "output_type": "execute_result"
    }
   ],
   "source": [
    "df.describe()"
   ]
  },
  {
   "cell_type": "markdown",
   "metadata": {},
   "source": [
    "## Løsning 1: \n",
    "Her bytter vi ut nullverdiene til median, eller \"mean\" fra tabellen ovenfor. \n",
    "Vi konverterer også datatypen på disse pointsene til int."
   ]
  },
  {
   "cell_type": "code",
   "execution_count": 69,
   "metadata": {},
   "outputs": [],
   "source": [
    "columns = [\"SALE PRICE\", \"LAND SQUARE FEET\", \"GROSS SQUARE FEET\"] # Her bytter vi ut NaN med median (\"mean\")\n",
    "\n",
    "for col in columns:\n",
    "        df[col] = pd.to_numeric(df[col], errors='coerce')\n",
    "        df[col] = df[col].fillna(value=df[col].mean())\n",
    "        \n",
    "        df[col] = df[col].astype(int)"
   ]
  },
  {
   "cell_type": "code",
   "execution_count": 70,
   "metadata": {},
   "outputs": [
    {
     "data": {
      "text/html": [
       "<div>\n",
       "<style scoped>\n",
       "    .dataframe tbody tr th:only-of-type {\n",
       "        vertical-align: middle;\n",
       "    }\n",
       "\n",
       "    .dataframe tbody tr th {\n",
       "        vertical-align: top;\n",
       "    }\n",
       "\n",
       "    .dataframe thead th {\n",
       "        text-align: right;\n",
       "    }\n",
       "</style>\n",
       "<table border=\"1\" class=\"dataframe\">\n",
       "  <thead>\n",
       "    <tr style=\"text-align: right;\">\n",
       "      <th></th>\n",
       "      <th>BOROUGH</th>\n",
       "      <th>NEIGHBORHOOD</th>\n",
       "      <th>BUILDING CLASS CATEGORY</th>\n",
       "      <th>TAX CLASS AT PRESENT</th>\n",
       "      <th>BUILDING CLASS AT PRESENT</th>\n",
       "      <th>ADDRESS</th>\n",
       "      <th>ZIP CODE</th>\n",
       "      <th>RESIDENTIAL UNITS</th>\n",
       "      <th>COMMERCIAL UNITS</th>\n",
       "      <th>TOTAL UNITS</th>\n",
       "      <th>LAND SQUARE FEET</th>\n",
       "      <th>GROSS SQUARE FEET</th>\n",
       "      <th>YEAR BUILT</th>\n",
       "      <th>TAX CLASS AT TIME OF SALE</th>\n",
       "      <th>BUILDING CLASS AT TIME OF SALE</th>\n",
       "      <th>SALE PRICE</th>\n",
       "      <th>SALE DATE</th>\n",
       "    </tr>\n",
       "  </thead>\n",
       "  <tbody>\n",
       "    <tr>\n",
       "      <th>4</th>\n",
       "      <td>1</td>\n",
       "      <td>ALPHABET CITY</td>\n",
       "      <td>07 RENTALS - WALKUP APARTMENTS</td>\n",
       "      <td>2A</td>\n",
       "      <td>C2</td>\n",
       "      <td>153 AVENUE B</td>\n",
       "      <td>10009</td>\n",
       "      <td>5</td>\n",
       "      <td>0</td>\n",
       "      <td>5</td>\n",
       "      <td>1633</td>\n",
       "      <td>6440</td>\n",
       "      <td>1900</td>\n",
       "      <td>2</td>\n",
       "      <td>C2</td>\n",
       "      <td>6625000</td>\n",
       "      <td>2017-07-19 00:00:00</td>\n",
       "    </tr>\n",
       "    <tr>\n",
       "      <th>5</th>\n",
       "      <td>1</td>\n",
       "      <td>ALPHABET CITY</td>\n",
       "      <td>07 RENTALS - WALKUP APARTMENTS</td>\n",
       "      <td>2</td>\n",
       "      <td>C7</td>\n",
       "      <td>234 EAST 4TH   STREET</td>\n",
       "      <td>10009</td>\n",
       "      <td>28</td>\n",
       "      <td>3</td>\n",
       "      <td>31</td>\n",
       "      <td>4616</td>\n",
       "      <td>18690</td>\n",
       "      <td>1900</td>\n",
       "      <td>2</td>\n",
       "      <td>C7</td>\n",
       "      <td>1276456</td>\n",
       "      <td>2016-12-14 00:00:00</td>\n",
       "    </tr>\n",
       "    <tr>\n",
       "      <th>6</th>\n",
       "      <td>1</td>\n",
       "      <td>ALPHABET CITY</td>\n",
       "      <td>07 RENTALS - WALKUP APARTMENTS</td>\n",
       "      <td>2</td>\n",
       "      <td>C7</td>\n",
       "      <td>197 EAST 3RD   STREET</td>\n",
       "      <td>10009</td>\n",
       "      <td>16</td>\n",
       "      <td>1</td>\n",
       "      <td>17</td>\n",
       "      <td>2212</td>\n",
       "      <td>7803</td>\n",
       "      <td>1900</td>\n",
       "      <td>2</td>\n",
       "      <td>C7</td>\n",
       "      <td>1276456</td>\n",
       "      <td>2016-12-09 00:00:00</td>\n",
       "    </tr>\n",
       "    <tr>\n",
       "      <th>7</th>\n",
       "      <td>1</td>\n",
       "      <td>ALPHABET CITY</td>\n",
       "      <td>07 RENTALS - WALKUP APARTMENTS</td>\n",
       "      <td>2B</td>\n",
       "      <td>C4</td>\n",
       "      <td>154 EAST 7TH STREET</td>\n",
       "      <td>10009</td>\n",
       "      <td>10</td>\n",
       "      <td>0</td>\n",
       "      <td>10</td>\n",
       "      <td>2272</td>\n",
       "      <td>6794</td>\n",
       "      <td>1913</td>\n",
       "      <td>2</td>\n",
       "      <td>C4</td>\n",
       "      <td>3936272</td>\n",
       "      <td>2016-09-23 00:00:00</td>\n",
       "    </tr>\n",
       "    <tr>\n",
       "      <th>8</th>\n",
       "      <td>1</td>\n",
       "      <td>ALPHABET CITY</td>\n",
       "      <td>07 RENTALS - WALKUP APARTMENTS</td>\n",
       "      <td>2A</td>\n",
       "      <td>C2</td>\n",
       "      <td>301 EAST 10TH   STREET</td>\n",
       "      <td>10009</td>\n",
       "      <td>6</td>\n",
       "      <td>0</td>\n",
       "      <td>6</td>\n",
       "      <td>2369</td>\n",
       "      <td>4615</td>\n",
       "      <td>1900</td>\n",
       "      <td>2</td>\n",
       "      <td>C2</td>\n",
       "      <td>8000000</td>\n",
       "      <td>2016-11-17 00:00:00</td>\n",
       "    </tr>\n",
       "  </tbody>\n",
       "</table>\n",
       "</div>"
      ],
      "text/plain": [
       "   BOROUGH   NEIGHBORHOOD                      BUILDING CLASS CATEGORY  \\\n",
       "4        1  ALPHABET CITY  07 RENTALS - WALKUP APARTMENTS                \n",
       "5        1  ALPHABET CITY  07 RENTALS - WALKUP APARTMENTS                \n",
       "6        1  ALPHABET CITY  07 RENTALS - WALKUP APARTMENTS                \n",
       "7        1  ALPHABET CITY  07 RENTALS - WALKUP APARTMENTS                \n",
       "8        1  ALPHABET CITY  07 RENTALS - WALKUP APARTMENTS                \n",
       "\n",
       "  TAX CLASS AT PRESENT BUILDING CLASS AT PRESENT                 ADDRESS  \\\n",
       "4                   2A                        C2            153 AVENUE B   \n",
       "5                    2                        C7   234 EAST 4TH   STREET   \n",
       "6                    2                        C7   197 EAST 3RD   STREET   \n",
       "7                   2B                        C4     154 EAST 7TH STREET   \n",
       "8                   2A                        C2  301 EAST 10TH   STREET   \n",
       "\n",
       "   ZIP CODE  RESIDENTIAL UNITS  COMMERCIAL UNITS  TOTAL UNITS  \\\n",
       "4     10009                  5                 0            5   \n",
       "5     10009                 28                 3           31   \n",
       "6     10009                 16                 1           17   \n",
       "7     10009                 10                 0           10   \n",
       "8     10009                  6                 0            6   \n",
       "\n",
       "   LAND SQUARE FEET  GROSS SQUARE FEET  YEAR BUILT  TAX CLASS AT TIME OF SALE  \\\n",
       "4              1633               6440        1900                          2   \n",
       "5              4616              18690        1900                          2   \n",
       "6              2212               7803        1900                          2   \n",
       "7              2272               6794        1913                          2   \n",
       "8              2369               4615        1900                          2   \n",
       "\n",
       "  BUILDING CLASS AT TIME OF SALE  SALE PRICE            SALE DATE  \n",
       "4                             C2     6625000  2017-07-19 00:00:00  \n",
       "5                             C7     1276456  2016-12-14 00:00:00  \n",
       "6                             C7     1276456  2016-12-09 00:00:00  \n",
       "7                             C4     3936272  2016-09-23 00:00:00  \n",
       "8                             C2     8000000  2016-11-17 00:00:00  "
      ]
     },
     "execution_count": 70,
     "metadata": {},
     "output_type": "execute_result"
    }
   ],
   "source": [
    "df.head(5)"
   ]
  },
  {
   "cell_type": "code",
   "execution_count": 71,
   "metadata": {},
   "outputs": [
    {
     "name": "stdout",
     "output_type": "stream",
     "text": [
      "<class 'pandas.core.frame.DataFrame'>\n",
      "Int64Index: 84548 entries, 4 to 8413\n",
      "Data columns (total 17 columns):\n",
      " #   Column                          Non-Null Count  Dtype \n",
      "---  ------                          --------------  ----- \n",
      " 0   BOROUGH                         84548 non-null  int64 \n",
      " 1   NEIGHBORHOOD                    84548 non-null  object\n",
      " 2   BUILDING CLASS CATEGORY         84548 non-null  object\n",
      " 3   TAX CLASS AT PRESENT            83810 non-null  object\n",
      " 4   BUILDING CLASS AT PRESENT       83810 non-null  object\n",
      " 5   ADDRESS                         84548 non-null  object\n",
      " 6   ZIP CODE                        84548 non-null  int64 \n",
      " 7   RESIDENTIAL UNITS               84548 non-null  int64 \n",
      " 8   COMMERCIAL UNITS                84548 non-null  int64 \n",
      " 9   TOTAL UNITS                     84548 non-null  int64 \n",
      " 10  LAND SQUARE FEET                84548 non-null  int64 \n",
      " 11  GROSS SQUARE FEET               84548 non-null  int64 \n",
      " 12  YEAR BUILT                      84548 non-null  int64 \n",
      " 13  TAX CLASS AT TIME OF SALE       84548 non-null  int64 \n",
      " 14  BUILDING CLASS AT TIME OF SALE  84548 non-null  object\n",
      " 15  SALE PRICE                      84548 non-null  int64 \n",
      " 16  SALE DATE                       84548 non-null  object\n",
      "dtypes: int64(10), object(7)\n",
      "memory usage: 11.6+ MB\n"
     ]
    }
   ],
   "source": [
    "df.info()"
   ]
  },
  {
   "cell_type": "markdown",
   "metadata": {},
   "source": [
    "## Løsning 2:\n",
    "\n",
    "df = df.dropna() \n",
    "\n",
    "#dropper alle rader med nullverdier. Vil redusere datasettet en del, men usikker på om det vil påvirke negativt. \n"
   ]
  },
  {
   "cell_type": "markdown",
   "metadata": {},
   "source": [
    "# Model 1: KNN"
   ]
  },
  {
   "cell_type": "code",
   "execution_count": 72,
   "metadata": {
    "pycharm": {
     "is_executing": true
    }
   },
   "outputs": [],
   "source": [
    "# code"
   ]
  },
  {
   "cell_type": "markdown",
   "metadata": {},
   "source": [
    "# Model 2: Decision Trees"
   ]
  },
  {
   "cell_type": "code",
   "execution_count": 73,
   "metadata": {
    "pycharm": {
     "is_executing": true
    }
   },
   "outputs": [],
   "source": [
    "# code"
   ]
  },
  {
   "cell_type": "markdown",
   "metadata": {},
   "source": [
    "# Model 3 Linear Regression"
   ]
  },
  {
   "cell_type": "code",
   "execution_count": 74,
   "metadata": {
    "pycharm": {
     "is_executing": true,
     "name": "#%%\n"
    }
   },
   "outputs": [],
   "source": [
    "from sklearn.model_selection import train_test_split\n",
    "from sklearn.linear_model import LinearRegression\n",
    "from sklearn.linear_model import Ridge\n",
    "from sklearn.metrics import mean_squared_error"
   ]
  },
  {
   "cell_type": "markdown",
   "metadata": {},
   "source": [
    "#### Kopierer datasett for modell "
   ]
  },
  {
   "cell_type": "code",
   "execution_count": 75,
   "metadata": {
    "pycharm": {
     "is_executing": true
    }
   },
   "outputs": [],
   "source": [
    "df3 = df.copy()"
   ]
  },
  {
   "cell_type": "markdown",
   "metadata": {},
   "source": [
    "#### Correlation_matrix for å se hvilke data som har høyest korrelasjon mellom seg. "
   ]
  },
  {
   "cell_type": "code",
   "execution_count": 76,
   "metadata": {
    "pycharm": {
     "is_executing": true
    },
    "scrolled": false
   },
   "outputs": [
    {
     "data": {
      "image/png": "[encoded data removed]",
      "text/plain": [
       "<Figure size 864x648 with 2 Axes>"
      ]
     },
     "metadata": {},
     "output_type": "display_data"
    }
   ],
   "source": [
    "correlation_matrix = df3.corr().round(2) # Regner korrelasjon og runder av til 2 desimaler\n",
    "\n",
    "sns.set(rc={\"figure.figsize\":(12,9)})\n",
    "sns.heatmap(data=correlation_matrix, annot=True)\n",
    "plt.show()"
   ]
  },
  {
   "cell_type": "markdown",
   "metadata": {},
   "source": [
    "#### Her ser vi følgende: \n",
    "* Sale Price har : \n",
    "    - høyest positiv korrelasjon med Gross Square Feet\n",
    "    - lavest negativ korrelasjon med Borough\n",
    "\n",
    "\n",
    "* Total Units og Residental Units har veldig høy positiv korrelasjon \n",
    "\n",
    "\n",
    "* Gross Square Feet og Residental/Total Units har høy positiv korrelasjon\n",
    "\n",
    "\n",
    "* Tax Class og Borough har lavest negativ korrelasjon"
   ]
  },
  {
   "cell_type": "code",
   "execution_count": 77,
   "metadata": {
    "scrolled": true
   },
   "outputs": [
    {
     "data": {
      "image/png": "[encoded data removed]",
      "text/plain": [
       "<Figure size 1440x360 with 2 Axes>"
      ]
     },
     "metadata": {},
     "output_type": "display_data"
    }
   ],
   "source": [
    "plt.figure(figsize=(20, 5))\n",
    "\n",
    "input_features = ['GROSS SQUARE FEET', 'BOROUGH']\n",
    "target = df3['SALE PRICE']\n",
    "\n",
    "for i, col in enumerate(input_features):\n",
    "    plt.subplot(1, len(input_features) , i+1)\n",
    "    x = df3[col]\n",
    "    y = target\n",
    "    plt.scatter(x, y, marker='^')\n",
    "    plt.title(\"Variasjon i eiendomspriser\")\n",
    "    plt.xlabel(col)\n",
    "    plt.ylabel('Priser i 1000 USD')"
   ]
  },
  {
   "cell_type": "code",
   "execution_count": 78,
   "metadata": {
    "scrolled": false
   },
   "outputs": [
    {
     "name": "stdout",
     "output_type": "stream",
     "text": [
      "(84548, 1)\n",
      "(84548, 1)\n"
     ]
    }
   ],
   "source": [
    "X_square = df3[\"GROSS SQUARE FEET\"]\n",
    "y_price = df3[\"SALE PRICE\"]\n",
    "\n",
    "\n",
    "X_square = np.array(X_square).reshape(-1,1)\n",
    "y_price = np.array(y_price).reshape(-1,1)\n",
    "\n",
    "print(X_square.shape)\n",
    "print(y_price.shape)"
   ]
  },
  {
   "cell_type": "code",
   "execution_count": 79,
   "metadata": {},
   "outputs": [
    {
     "name": "stdout",
     "output_type": "stream",
     "text": [
      "(67638, 1)\n",
      "(16910, 1)\n",
      "(67638, 1)\n",
      "(16910, 1)\n"
     ]
    }
   ],
   "source": [
    "X_train_1, X_test_1, Y_train_1, Y_test_1 = train_test_split(X_square, y_price, test_size = 0.2, random_state=5)\n",
    "\n",
    "print(X_train_1.shape)\n",
    "print(X_test_1.shape)\n",
    "print(Y_train_1.shape)\n",
    "print(Y_test_1.shape)"
   ]
  },
  {
   "cell_type": "code",
   "execution_count": 80,
   "metadata": {},
   "outputs": [
    {
     "name": "stdout",
     "output_type": "stream",
     "text": [
      "The model performance for training set\n",
      "--------------------------------------\n",
      "RMSE is 6692268.485774761\n",
      "R2 score is 0.14\n",
      "\n",
      "\n"
     ]
    }
   ],
   "source": [
    "reg_1 = LinearRegression()\n",
    "reg_1.fit(X_train_1, Y_train_1)\n",
    "\n",
    "y_train_predict_1 = reg_1.predict(X_train_1)\n",
    "rmse = (np.sqrt(mean_squared_error(Y_train_1, y_train_predict_1)))\n",
    "r2 = round(reg_1.score(X_train_1, Y_train_1),2)\n",
    "\n",
    "print(\"The model performance for training set\")\n",
    "print(\"--------------------------------------\")\n",
    "print('RMSE is {}'.format(rmse))\n",
    "print('R2 score is {}'.format(r2))\n",
    "print(\"\\n\")"
   ]
  },
  {
   "cell_type": "code",
   "execution_count": 81,
   "metadata": {},
   "outputs": [
    {
     "name": "stdout",
     "output_type": "stream",
     "text": [
      "The model performance for training set\n",
      "--------------------------------------\n",
      "Root Mean Squared Error: 17223637.324562\n",
      "R^2: 0.1\n",
      "\n",
      "\n"
     ]
    }
   ],
   "source": [
    "y_pred_1 = reg_1.predict(X_test_1)\n",
    "rmse = (np.sqrt(mean_squared_error(Y_test_1, y_pred_1)))\n",
    "r2 = round(reg_1.score(X_test_1, Y_test_1),2)\n",
    "\n",
    "print(\"The model performance for training set\")\n",
    "print(\"--------------------------------------\")\n",
    "print(\"Root Mean Squared Error: {}\".format(rmse))\n",
    "print(\"R^2: {}\".format(r2))\n",
    "print(\"\\n\")"
   ]
  },
  {
   "cell_type": "code",
   "execution_count": 82,
   "metadata": {},
   "outputs": [
    {
     "data": {
      "image/png": "[encoded data removed]",
      "text/plain": [
       "<Figure size 864x648 with 1 Axes>"
      ]
     },
     "metadata": {},
     "output_type": "display_data"
    }
   ],
   "source": [
    "prediction_space = np.linspace(min(X_square), max(X_square)).reshape(-1,1) \n",
    "plt.scatter(X_square,y_price)\n",
    "plt.plot(prediction_space, reg_1.predict(prediction_space), color = 'black', linewidth = 3)\n",
    "plt.ylabel('value of property/1000($)')\n",
    "plt.xlabel('gross square feet')\n",
    "plt.show()"
   ]
  },
  {
   "cell_type": "markdown",
   "metadata": {},
   "source": [
    "# Model 4 : Feedforward Neural Network 1"
   ]
  },
  {
   "cell_type": "code",
   "execution_count": null,
   "metadata": {
    "pycharm": {
     "is_executing": true
    }
   },
   "outputs": [],
   "source": [
    "# code"
   ]
  },
  {
   "cell_type": "markdown",
   "metadata": {},
   "source": [
    "# Model 5 : Feedforward Neural Network 2"
   ]
  },
  {
   "cell_type": "code",
   "execution_count": null,
   "metadata": {
    "pycharm": {
     "is_executing": true
    }
   },
   "outputs": [],
   "source": [
    "# code"
   ]
  }
 ],
 "metadata": {
  "kernelspec": {
   "display_name": "Python 3",
   "language": "python",
   "name": "python3"
  },
  "language_info": {
   "codemirror_mode": {
    "name": "ipython",
    "version": 3
   },
   "file_extension": ".py",
   "mimetype": "text/x-python",
   "name": "python",
   "nbconvert_exporter": "python",
   "pygments_lexer": "ipython3",
   "version": "3.8.5"
  }
 },
 "nbformat": 4,
 "nbformat_minor": 1
}
